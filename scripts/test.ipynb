{
 "cells": [
  {
   "cell_type": "code",
   "execution_count": 1,
   "metadata": {},
   "outputs": [],
   "source": [
    "from wikipedia import get_intros"
   ]
  },
  {
   "cell_type": "code",
   "execution_count": 2,
   "metadata": {},
   "outputs": [
    {
     "data": {
      "text/plain": [
       "{'Spotband butterflyfish': 'The spot-banded butterflyfish or spotband butterflyfish (Chaetodon punctatofasciatus) is a species of marine ray-finned fish, a butterflyfish belonging to the family Chaetodontidae. It is from the western Pacific Ocean.\\nIt is found in the Indo- West Pacific region from Christmas Island in the eastern Indian Ocean to the Line Islands, north to the Ryukyu Islands, south to the Rowley Shoals and the northern Great Barrier Reef, and throughout Micronesia. Replaced by its close relative the Peppered butterflyfish (C. guttatissimus) in the Indian Ocean, these two species are sympatric from Christmas Island to Bali.\\nThis is one of the members of the subgenus Exornator. With the Peppered butterflyfish it is part of a close-knit group which also includes the Pebbled butterflyfish (C. multicinctus) and the Sunset butterflyfish (C. pelewensis). It is suspected that these four are able to produce fertile hybrids. If the genus Chaetodon is split up, Exornator might become a subgenus of Lepidochaetodon. C. punctatofasciatus is the type species of the subgenus Exornator and was first formally described in 1831 by the French anatomist Georges Cuvier (1769-1832).\\nThe spot-banded butterflyfish grows to a maximum of 12 cm long. Its body is pale grey with close-set grey spots which are aligned in vertical bands, interspersed with yellow, on the upper sides and form horizontal rows on the lower sides. The dorsal fin has a yellow margin and there is a bright orange patch running through the caudal peduncle.\\nIt is found in coral-rich areas and clear waters of seaward and lagoon reefs. This fish feeds on filamentous algae and coral polyps and other benthic invertebrates.',\n",
       " 'Bartail flathead': 'The bartail flathead (Platycephalus indicus), also known as the Indian flathead, gobi or Indo-Pacific flathead, is a species of largely marine ray-finned fish belonging to the family Platycephalidae, the flatheads. This species is found in the Indian Ocean and the Western Pacific Ocean, and has invaded the eastern Mediterranean Sea.\\n\\n'}"
      ]
     },
     "execution_count": 2,
     "metadata": {},
     "output_type": "execute_result"
    }
   ],
   "source": [
    "get_intros([\"Spotband butterflyfish\", \"Bartail flathead\"])"
   ]
  }
 ],
 "metadata": {
  "kernelspec": {
   "display_name": "venv",
   "language": "python",
   "name": "python3"
  },
  "language_info": {
   "codemirror_mode": {
    "name": "ipython",
    "version": 3
   },
   "file_extension": ".py",
   "mimetype": "text/x-python",
   "name": "python",
   "nbconvert_exporter": "python",
   "pygments_lexer": "ipython3",
   "version": "3.12.4"
  }
 },
 "nbformat": 4,
 "nbformat_minor": 2
}
